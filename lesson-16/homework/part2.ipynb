{
 "cells": [
  {
   "cell_type": "code",
   "execution_count": null,
   "metadata": {},
   "outputs": [],
   "source": [
    "#1\n",
    "import pandas as pd\n",
    "\n",
    "df = pd.read_json(\"iris.json\")\n",
    "\n",
    "df.columns = df.columns.str.lower()\n",
    "\n",
    "df_selected = df[['sepal_length', 'sepal_width']]\n",
    "\n",
    "print(df_selected.head())\n"
   ]
  },
  {
   "cell_type": "code",
   "execution_count": null,
   "metadata": {},
   "outputs": [],
   "source": [
    "#2\n",
    "import pandas as pd\n",
    "\n",
    "df = pd.read_excel(\"titanic.xlsx\")\n",
    "\n",
    "df_above_30 = df[df['Age'] > 30]\n",
    "\n",
    "gender_count = df_above_30['Sex'].value_counts()\n",
    "\n",
    "print(gender_count)\n"
   ]
  },
  {
   "cell_type": "code",
   "execution_count": null,
   "metadata": {},
   "outputs": [],
   "source": [
    "#3\n",
    "import pandas as pd\n",
    "\n",
    "df = pd.read_parquet(\"flights.parquet\")\n",
    "\n",
    "df_selected = df[['origin', 'dest', 'carrier']]\n",
    "print(df_selected.head())\n",
    "\n",
    "unique_destinations = df['dest'].nunique()\n",
    "\n",
    "print(f\"Number of unique destinations: {unique_destinations}\")\n"
   ]
  },
  {
   "cell_type": "code",
   "execution_count": null,
   "metadata": {},
   "outputs": [],
   "source": [
    "#4\n",
    "import pandas as pd\n",
    "\n",
    "df = pd.read_csv(\"movie.csv\")\n",
    "\n",
    "df_filtered = df[df['duration'] > 120]\n",
    "\n",
    "df_sorted = df_filtered.sort_values(by='director_facebook_likes', ascending=False)\n",
    "\n",
    "print(df_sorted.head())\n"
   ]
  }
 ],
 "metadata": {
  "language_info": {
   "name": "python"
  }
 },
 "nbformat": 4,
 "nbformat_minor": 2
}
