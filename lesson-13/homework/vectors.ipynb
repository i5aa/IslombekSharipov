{
 "cells": [
  {
   "cell_type": "code",
   "execution_count": 5,
   "metadata": {},
   "outputs": [
    {
     "name": "stdout",
     "output_type": "stream",
     "text": [
      "[10 11 12 13 14 15 16 17 18 19 20 21 22 23 24 25 26 27 28 29 30 31 32 33\n",
      " 34 35 36 37 38 39 40 41 42 43 44 45 46 47 48 49]\n"
     ]
    }
   ],
   "source": [
    "#Question 1\n",
    "import numpy as np\n",
    "vector = np.arange(10, 50)\n",
    "print(vector)\n"
   ]
  },
  {
   "cell_type": "code",
   "execution_count": null,
   "metadata": {},
   "outputs": [],
   "source": [
    "#Question 2\n",
    "matrix=np.arrange(9).reshape(3,3)\n",
    "print(matrix)"
   ]
  },
  {
   "cell_type": "code",
   "execution_count": 7,
   "metadata": {},
   "outputs": [
    {
     "name": "stdout",
     "output_type": "stream",
     "text": [
      "[[1. 0. 0.]\n",
      " [0. 1. 0.]\n",
      " [0. 0. 1.]]\n"
     ]
    }
   ],
   "source": [
    "#Question 3\n",
    "identity_matrix=np.eye(3)\n",
    "print(identity_matrix)\n"
   ]
  },
  {
   "cell_type": "code",
   "execution_count": 10,
   "metadata": {},
   "outputs": [
    {
     "name": "stdout",
     "output_type": "stream",
     "text": [
      "[[[ 0  1  2]\n",
      "  [ 3  4  5]\n",
      "  [ 6  7  8]]\n",
      "\n",
      " [[ 9 10 11]\n",
      "  [12 13 14]\n",
      "  [15 16 17]]\n",
      "\n",
      " [[18 19 20]\n",
      "  [21 22 23]\n",
      "  [24 25 26]]]\n"
     ]
    }
   ],
   "source": [
    "#Question 4\n",
    "a4 = np.arange(27).reshape(3, 3, 3)\n",
    "print(a4)"
   ]
  },
  {
   "cell_type": "code",
   "execution_count": 13,
   "metadata": {},
   "outputs": [
    {
     "name": "stdout",
     "output_type": "stream",
     "text": [
      "[[41 12  8 18 48  6 86 52 18 53]\n",
      " [69 59 78 35 47 57 78 92 28 49]\n",
      " [82 66 58 27 95 52 31 79 35 61]\n",
      " [24 40 25 20  7 56 34 36 67 96]\n",
      " [60 47 54 92 87 44 46 60 32 95]\n",
      " [73 76 84 27 43 58 11  4  6 65]\n",
      " [ 8 16 14 13 86 63 49 12 71 79]\n",
      " [ 1 98 16 10 46 66  4  0 30  8]\n",
      " [78 89 64 14 72 84  0  6 18 55]\n",
      " [23 49  5 90 24 77 14 92 29 57]]\n",
      "max value: 98\n",
      "min value: 0\n"
     ]
    }
   ],
   "source": [
    "#Question 5\n",
    "variable = np.random.randint(0, 100, (10, 10))\n",
    "print(variable)\n",
    "print(f'max value: {variable.max()}')\n",
    "print(f'min value: {variable.min()}')\n"
   ]
  },
  {
   "cell_type": "code",
   "execution_count": null,
   "metadata": {},
   "outputs": [
    {
     "name": "stdout",
     "output_type": "stream",
     "text": [
      "3.433333333333333\n"
     ]
    }
   ],
   "source": [
    "#Question 6\n",
    "arr = np.random.randint(0, 10, 30)\n",
    "print(arr.mean())"
   ]
  },
  {
   "cell_type": "code",
   "execution_count": 27,
   "metadata": {},
   "outputs": [
    {
     "name": "stdout",
     "output_type": "stream",
     "text": [
      "[[0.02105263 0.77894737 0.90526316 0.48421053 0.51578947]\n",
      " [0.03157895 0.57894737 0.62105263 0.01052632 0.28421053]\n",
      " [0.8        0.95789474 0.4        0.66315789 0.03157895]\n",
      " [0.4        0.14736842 1.         0.         0.84210526]\n",
      " [0.01052632 0.91578947 0.11578947 0.6        0.63157895]]\n"
     ]
    }
   ],
   "source": [
    "#Question 7\n",
    "matrix = np.random.randint(0, 100, (5, 5))\n",
    "normalized_matrix = (matrix - matrix.min()) / (matrix.max() - matrix.min())\n",
    "print( normalized_matrix)"
   ]
  },
  {
   "cell_type": "code",
   "execution_count": 28,
   "metadata": {},
   "outputs": [
    {
     "name": "stdout",
     "output_type": "stream",
     "text": [
      "[[0 0 4]\n",
      " [9 0 5]\n",
      " [2 6 5]\n",
      " [3 1 5]\n",
      " [4 2 7]]\n",
      "[[5 0]\n",
      " [1 3]\n",
      " [7 7]]\n",
      "Multiplied:\n",
      "[[28 28]\n",
      " [80 35]\n",
      " [51 53]\n",
      " [51 38]\n",
      " [71 55]]\n"
     ]
    }
   ],
   "source": [
    "#Question 8\n",
    "i = np.random.randint(0, 10, (5, 3))\n",
    "s = np.random.randint(0, 10, (3, 2))\n",
    "print(i)\n",
    "print(s)\n",
    "print('Multiplied:')\n",
    "print(i@s)"
   ]
  },
  {
   "cell_type": "code",
   "execution_count": 29,
   "metadata": {},
   "outputs": [
    {
     "name": "stdout",
     "output_type": "stream",
     "text": [
      "[[4 8 1]\n",
      " [4 4 3]\n",
      " [3 4 1]]\n",
      "[[4 4 8]\n",
      " [9 7 4]\n",
      " [2 6 4]]\n",
      "[[90 78 68]\n",
      " [58 62 60]\n",
      " [50 46 44]]\n"
     ]
    }
   ],
   "source": [
    "#Question 9\n",
    "m1 = np.random.randint(0, 10, (3, 3))\n",
    "m2 = np.random.randint(0, 10, (3, 3))\n",
    "print(m1)\n",
    "print(m2)\n",
    "print(np.dot(m1, m2))"
   ]
  },
  {
   "cell_type": "code",
   "execution_count": 30,
   "metadata": {},
   "outputs": [
    {
     "name": "stdout",
     "output_type": "stream",
     "text": [
      "Original:\n",
      "[[2 7 0 7]\n",
      " [1 3 4 9]\n",
      " [4 9 8 8]\n",
      " [1 2 3 7]]\n",
      "Transpose:\n",
      "[[2 1 4 1]\n",
      " [7 3 9 2]\n",
      " [0 4 8 3]\n",
      " [7 9 8 7]]\n"
     ]
    }
   ],
   "source": [
    "#Question 10\n",
    "tr = np.random.randint(0, 10, (4, 4))\n",
    "print('Original:')\n",
    "print(tr)\n",
    "print('Transpose:')\n",
    "print(tr.transpose())"
   ]
  },
  {
   "cell_type": "code",
   "execution_count": 31,
   "metadata": {},
   "outputs": [
    {
     "name": "stdout",
     "output_type": "stream",
     "text": [
      "[[1 2 3]\n",
      " [4 5 6]\n",
      " [7 8 9]]\n",
      "0.0\n"
     ]
    }
   ],
   "source": [
    "#Question 11\n",
    "A = np.array([[1, 2, 3], \n",
    "              [4, 5, 6], \n",
    "              [7, 8, 9]])\n",
    "\n",
    "det_A = np.linalg.det(A)\n",
    "\n",
    "print(A)\n",
    "print(det_A)"
   ]
  },
  {
   "cell_type": "code",
   "execution_count": 32,
   "metadata": {},
   "outputs": [
    {
     "name": "stdout",
     "output_type": "stream",
     "text": [
      "Matrix A (3x4):\n",
      " [[7 1 1 4]\n",
      " [4 7 6 3]\n",
      " [1 8 6 6]]\n",
      "Matrix B (4x3):\n",
      " [[7 5 3]\n",
      " [1 2 9]\n",
      " [6 7 8]\n",
      " [7 6 6]]\n",
      "Matrix Product C (3x3):\n",
      " [[ 84  68  62]\n",
      " [ 92  94 141]\n",
      " [ 93  99 159]]\n"
     ]
    }
   ],
   "source": [
    "#Question 12\n",
    "A = np.random.randint(1, 10, (3, 4))\n",
    "B = np.random.randint(1, 10, (4, 3))\n",
    "C = np.dot(A, B) \n",
    "print(\"Matrix A (3x4):\\n\", A)\n",
    "print(\"Matrix B (4x3):\\n\", B)\n",
    "print(\"Matrix Product C (3x3):\\n\", C)"
   ]
  },
  {
   "cell_type": "code",
   "execution_count": 34,
   "metadata": {},
   "outputs": [
    {
     "name": "stdout",
     "output_type": "stream",
     "text": [
      "[[38]\n",
      " [24]\n",
      " [27]]\n"
     ]
    }
   ],
   "source": [
    "#Question 13\n",
    "random_m=np.random.randint(0,10,(3,3))\n",
    "random_v=np.random.randint(1, 10, (3, 1))\n",
    "product=np.dot(random_m,random_v)\n",
    "print(product)\n"
   ]
  },
  {
   "cell_type": "code",
   "execution_count": 35,
   "metadata": {},
   "outputs": [
    {
     "name": "stdout",
     "output_type": "stream",
     "text": [
      "Matrix A:\n",
      " [[2 3 1]\n",
      " [4 5 6]\n",
      " [7 8 9]]\n",
      "Vector b:\n",
      " [[1]\n",
      " [2]\n",
      " [3]]\n",
      "Solution x:\n",
      " [[-0.22222222]\n",
      " [ 0.44444444]\n",
      " [ 0.11111111]]\n"
     ]
    }
   ],
   "source": [
    "#Question 14\n",
    "A = np.array([[2, 3, 1], \n",
    "              [4, 5, 6], \n",
    "              [7, 8, 9]])\n",
    "b = np.array([[1], \n",
    "              [2], \n",
    "              [3]])\n",
    "\n",
    "x = np.linalg.solve(A, b)\n",
    "\n",
    "print(\"Matrix A:\\n\", A)\n",
    "print(\"Vector b:\\n\", b)\n",
    "print(\"Solution x:\\n\", x)"
   ]
  },
  {
   "cell_type": "code",
   "execution_count": null,
   "metadata": {},
   "outputs": [],
   "source": [
    "#Question 15\n",
    "A = np.random.randint(1, 10, (5, 5))\n",
    "row_sums = np.sum(A, axis=1)\n",
    "col_sums = np.sum(A, axis=0)\n",
    "\n",
    "print(\"Matrix A (5x5):\\n\", A)\n",
    "print(\"Row-wise sums:\\n\", row_sums)\n",
    "print(\"Column-wise sums:\\n\", col_sums)"
   ]
  }
 ],
 "metadata": {
  "kernelspec": {
   "display_name": "Python 3",
   "language": "python",
   "name": "python3"
  },
  "language_info": {
   "codemirror_mode": {
    "name": "ipython",
    "version": 3
   },
   "file_extension": ".py",
   "mimetype": "text/x-python",
   "name": "python",
   "nbconvert_exporter": "python",
   "pygments_lexer": "ipython3",
   "version": "3.11.9"
  }
 },
 "nbformat": 4,
 "nbformat_minor": 2
}
